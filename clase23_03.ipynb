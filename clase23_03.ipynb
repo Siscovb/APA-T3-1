{
 "cells": [
  {
   "cell_type": "code",
   "execution_count": 1,
   "metadata": {},
   "outputs": [
    {
     "name": "stdout",
     "output_type": "stream",
     "text": [
      "Hola soy un pato\n",
      "Hola soy un gato\n",
      "Hola soy un bicho\n"
     ]
    }
   ],
   "source": [
    "class Bichos:\n",
    "    def hola(self):\n",
    "        print(\"Hola soy un bicho\")\n",
    "\n",
    "class Pato(Bichos):\n",
    "    def hola(self):\n",
    "        print(\"Hola soy un pato\")\n",
    "\n",
    "class Gato(Bichos):\n",
    "    def hola(self):\n",
    "        print(\"Hola soy un gato\")\n",
    "\n",
    "class Rata(Bichos):\n",
    "    ...\n",
    "\n",
    "def saluda(bicho):\n",
    "    bicho.hola()\n",
    "\n",
    "donal, felix, minnie = Pato(), Gato(), Rata()\n",
    "\n",
    "saluda(donal)\n",
    "saluda(felix)\n",
    "saluda(minnie)\n"
   ]
  },
  {
   "cell_type": "code",
   "execution_count": 6,
   "metadata": {},
   "outputs": [
    {
     "data": {
      "text/plain": [
       "(__main__.Ranas,\n",
       " __main__.Bichos,\n",
       " __main__.Seres,\n",
       " __main__.Verdes,\n",
       " __main__.Colores,\n",
       " object)"
      ]
     },
     "execution_count": 6,
     "metadata": {},
     "output_type": "execute_result"
    }
   ],
   "source": [
    "\n",
    "\n",
    "class Colores:\n",
    "    ...\n",
    "\n",
    "class Verdes(Colores):\n",
    "    ...\n",
    "\n",
    "class Seres():\n",
    "    ...\n",
    "\n",
    "class Bichos(Seres):\n",
    "    ...\n",
    "\n",
    "class Ranas(Bichos,Verdes):\n",
    "    ...\n",
    "\n",
    "#Ranas.__mro__\n",
    "Ranas.mro()\n",
    "\n"
   ]
  }
 ],
 "metadata": {
  "kernelspec": {
   "display_name": "Python 3",
   "language": "python",
   "name": "python3"
  },
  "language_info": {
   "codemirror_mode": {
    "name": "ipython",
    "version": 3
   },
   "file_extension": ".py",
   "mimetype": "text/x-python",
   "name": "python",
   "nbconvert_exporter": "python",
   "pygments_lexer": "ipython3",
   "version": "3.10.10"
  },
  "orig_nbformat": 4
 },
 "nbformat": 4,
 "nbformat_minor": 2
}
