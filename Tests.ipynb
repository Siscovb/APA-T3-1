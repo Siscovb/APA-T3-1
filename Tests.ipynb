{
 "cells": [
  {
   "cell_type": "code",
   "execution_count": 1,
   "metadata": {},
   "outputs": [],
   "source": [
    "class Vector:\n",
    "    \"\"\"\n",
    "    Clase usada para trabajar con vectores sencillos\n",
    "    \"\"\"\n",
    "    def __init__(self, iterable):\n",
    "        \"\"\"\n",
    "        Costructor de la clase Vector. Su único argumento es un iterable con las componentes del vector.\n",
    "        \"\"\"\n",
    "\n",
    "        self.vector = [valor for valor in iterable]\n",
    "\n",
    "        return None      # Orden superflua\n",
    "\n",
    "    def __repr__(self):\n",
    "        \"\"\"\n",
    "        Representación *oficial* del vector que permite construir uno nuevo idéntico mediante corta-y-pega.\n",
    "        \"\"\"\n",
    "\n",
    "        return 'Vector(' + repr(self.vector) + ')'\n",
    "\n",
    "    def __str__(self):\n",
    "        \"\"\"\n",
    "        Representación *bonita* del vector.\n",
    "        \"\"\"\n",
    "\n",
    "        return str(self.vector)\n",
    "\n",
    "    def __getitem__(self, key):\n",
    "        \"\"\"\n",
    "        Devuelve un elemento o una loncha del vector.\n",
    "        \"\"\"\n",
    "\n",
    "        return self.vector[key]\n",
    "\n",
    "    def __setitem__(self, key, value):\n",
    "        \"\"\"\n",
    "        Fija el valor de una componente o loncha del vector.\n",
    "        \"\"\"\n",
    "\n",
    "        self.vector[key] = value\n",
    "\n",
    "    def __len__(self):\n",
    "        \"\"\"\n",
    "        Devuelve la longitud del vector.\n",
    "        \"\"\"\n",
    "\n",
    "        return len(self.vector)\n",
    "\n",
    "    def __add__(self, other):\n",
    "        \"\"\"\n",
    "        Suma al vector otro vector o una constante.\n",
    "        \"\"\"\n",
    "\n",
    "        if isinstance(other, (int, float, complex)):\n",
    "            return Vector(uno + other for uno in self)\n",
    "        else:\n",
    "            return Vector(uno + otro for uno, otro in zip(self, other))\n",
    "\n",
    "    __radd__ = __add__\n",
    "\n",
    "    def __neg__(self):\n",
    "        \"\"\"\n",
    "        Invierte el signo del vector.\n",
    "        \"\"\"\n",
    "\n",
    "        return Vector([-1 * item for item in self])\n",
    "\n",
    "    def __sub__(self, other):\n",
    "        \"\"\"\n",
    "        Resta al vector otro vector o una constante.\n",
    "        \"\"\"\n",
    "\n",
    "        return -(-self + other)\n",
    "\n",
    "    def __rsub__(self, other):     # No puede ser __rsub__ = __sub__\n",
    "        \"\"\"\n",
    "        Método reflejado de la resta, usado cuando el primer elemento no pertenece a la clase Vector.\n",
    "        \"\"\"\n",
    "\n",
    "        return -self + other\n",
    "\n",
    "    # PRACTICA 3 \n",
    "\n",
    "    def __mul__(self, other):\n",
    "        if isinstance(other, Vector):\n",
    "            return Vector([a * b for a, b in zip(self, other)])\n",
    "        elif isinstance(other, (int, float, complex)):\n",
    "            return Vector([other * x for x in self])\n",
    "\n",
    "    __rmul__ = __mul__\n",
    "\n",
    "    def __matmul__(self, other):\n",
    "        if isinstance(other, Vector):\n",
    "            return sum([a * b for a, b in zip(self, other)])\n",
    "        \n",
    "    __rmatmul__ = __matmul__\n",
    "    \n",
    "    def __floordiv__(self, other):\n",
    "            return Vector([(sum(a * b for a, b in zip(self, other)) // (sum(a ** 2 for a in other) ** 0.5)) * b for b in other])\n",
    "\n",
    "    __rfloordiv__ = __floordiv__\n",
    "\n",
    "    def __mod__(self, other):\n",
    "            return self - self // other\n",
    "    \n",
    "    __rmod__ = __mod__"
   ]
  },
  {
   "cell_type": "code",
   "execution_count": 2,
   "metadata": {},
   "outputs": [
    {
     "name": "stdout",
     "output_type": "stream",
     "text": [
      "[4, 10, 18]\n",
      "[2, 4, 6]\n",
      "[2, 4, 6]\n"
     ]
    }
   ],
   "source": [
    "v1 = Vector([1, 2, 3])\n",
    "v2 = Vector([4, 5, 6])\n",
    "r1 = v1 * v2\n",
    "r2 = v1 * 2\n",
    "r3 = 2 * v1\n",
    "print(r1)\n",
    "print(r2)\n",
    "print(r3)"
   ]
  },
  {
   "cell_type": "code",
   "execution_count": 3,
   "metadata": {},
   "outputs": [
    {
     "data": {
      "text/plain": [
       "32"
      ]
     },
     "execution_count": 3,
     "metadata": {},
     "output_type": "execute_result"
    }
   ],
   "source": [
    "v1 = Vector([1, 2, 3])\n",
    "v2 = Vector([4, 5, 6])\n",
    "v1 @ v2"
   ]
  },
  {
   "cell_type": "code",
   "execution_count": 4,
   "metadata": {},
   "outputs": [
    {
     "data": {
      "text/plain": [
       "Vector([1.0, 2.0, 1.0])"
      ]
     },
     "execution_count": 4,
     "metadata": {},
     "output_type": "execute_result"
    }
   ],
   "source": [
    "v1 = Vector([2, 1, 2])\n",
    "v2 = Vector([0.5, 1, 0.5])\n",
    "v1 // v2"
   ]
  },
  {
   "cell_type": "code",
   "execution_count": 5,
   "metadata": {},
   "outputs": [
    {
     "data": {
      "text/plain": [
       "Vector([1.0, -1.0, 1.0])"
      ]
     },
     "execution_count": 5,
     "metadata": {},
     "output_type": "execute_result"
    }
   ],
   "source": [
    "v1 = Vector([2, 1, 2])\n",
    "v2 = Vector([0.5, 1, 0.5])\n",
    "\n",
    "v1 % v2"
   ]
  }
 ],
 "metadata": {
  "kernelspec": {
   "display_name": "Python 3",
   "language": "python",
   "name": "python3"
  },
  "language_info": {
   "codemirror_mode": {
    "name": "ipython",
    "version": 3
   },
   "file_extension": ".py",
   "mimetype": "text/x-python",
   "name": "python",
   "nbconvert_exporter": "python",
   "pygments_lexer": "ipython3",
   "version": "3.11.2"
  },
  "orig_nbformat": 4
 },
 "nbformat": 4,
 "nbformat_minor": 2
}
